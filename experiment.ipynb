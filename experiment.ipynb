{
 "cells": [
  {
   "cell_type": "code",
   "execution_count": 1,
   "metadata": {},
   "outputs": [
    {
     "name": "stdout",
     "output_type": "stream",
     "text": [
      "3.5.2 (default, Nov 23 2017, 16:37:01) \n",
      "[GCC 5.4.0 20160609]\n"
     ]
    }
   ],
   "source": [
    "import sys\n",
    "print(sys.version)\n",
    "\n",
    "import warnings\n",
    "warnings.filterwarnings('ignore')"
   ]
  },
  {
   "cell_type": "code",
   "execution_count": 2,
   "metadata": {},
   "outputs": [],
   "source": [
    "import torch\n",
    "from torch.utils import data\n",
    "import torch.nn as nn"
   ]
  },
  {
   "cell_type": "code",
   "execution_count": 3,
   "metadata": {},
   "outputs": [],
   "source": [
    "cifar_10_folder = './datasets/cifar-10/'\n",
    "cifar_100_folder = './datasets/cifar-100/'\n",
    "flower_17_folder = './datasets/flowers-17/'\n",
    "flower_102_folder = './datasets/flowers-102/'"
   ]
  },
  {
   "cell_type": "code",
   "execution_count": 8,
   "metadata": {},
   "outputs": [],
   "source": [
    "import dataloaders.Cifar10Dataset as cd10\n",
    "import dataloaders.Cifar100Dataset as cd100\n",
    "\n",
    "# CUDA for PyTorch\n",
    "use_cuda = torch.cuda.is_available()\n",
    "device = torch.device(\"cuda:0\" if use_cuda else \"cpu\")\n",
    "#cudnn.benchmark = True\n",
    "\n",
    "# Parameters\n",
    "params = {'batch_size': 32,\n",
    "          'shuffle': True,\n",
    "          'num_workers': 2}\n",
    "max_epochs = 100\n",
    "\n",
    "\n",
    "# Generators\n",
    "training_set = cd100.Cifar100Dataset(cifar_100_folder, dataset_type='train', device=device)\n",
    "training_set.setRotation(True)\n",
    "training_set.setCrop(True)\n",
    "training_set.setFlip(True)\n",
    "training_set.setBlur(True)\n",
    "training_set.setNoise(True)\n",
    "training_set.setNormalization(True, 0.5, 0.2)\n",
    "training_generator = data.DataLoader(training_set, **params)\n",
    "\n",
    "validation_set = cd100.Cifar100Dataset(cifar_100_folder, dataset_type='val', device=device)\n",
    "validation_set.setNormalization(True, 0.5, 0.2)\n",
    "validation_generator = data.DataLoader(validation_set, **params)\n",
    "\n",
    "test_set = cd100.Cifar100Dataset(cifar_100_folder, dataset_type='test', device=device)\n",
    "test_set.setNormalization(True, 0.5, 0.2)\n",
    "test_generator = data.DataLoader(test_set, **params)"
   ]
  },
  {
   "cell_type": "code",
   "execution_count": 5,
   "metadata": {
    "scrolled": true
   },
   "outputs": [
    {
     "name": "stdout",
     "output_type": "stream",
     "text": [
      "CifarModel(\n",
      "  (conv1): Conv2d(3, 16, kernel_size=(5, 5), stride=(1, 1), padding=(2, 2))\n",
      "  (block1): ResidualBlock(\n",
      "    (conv1): Conv2d(16, 16, kernel_size=(3, 3), stride=(1, 1), padding=(1, 1))\n",
      "    (conv2): Conv2d(16, 16, kernel_size=(3, 3), stride=(1, 1), padding=(1, 1))\n",
      "    (bn1): BatchNorm2d(16, eps=1e-05, momentum=0.1, affine=True, track_running_stats=True)\n",
      "    (bn2): BatchNorm2d(16, eps=1e-05, momentum=0.1, affine=True, track_running_stats=True)\n",
      "    (relu): LeakyReLU(negative_slope=0.1)\n",
      "    (maxpool): MaxPool2d(kernel_size=2, stride=2, padding=0, dilation=1, ceil_mode=False)\n",
      "  )\n",
      "  (block2): ResidualBlock(\n",
      "    (conv1): Conv2d(16, 16, kernel_size=(3, 3), stride=(1, 1), padding=(1, 1))\n",
      "    (conv2): Conv2d(16, 16, kernel_size=(3, 3), stride=(1, 1), padding=(1, 1))\n",
      "    (bn1): BatchNorm2d(16, eps=1e-05, momentum=0.1, affine=True, track_running_stats=True)\n",
      "    (bn2): BatchNorm2d(16, eps=1e-05, momentum=0.1, affine=True, track_running_stats=True)\n",
      "    (relu): LeakyReLU(negative_slope=0.1)\n",
      "    (maxpool): MaxPool2d(kernel_size=2, stride=2, padding=0, dilation=1, ceil_mode=False)\n",
      "  )\n",
      "  (bottleneck1): Conv2d(16, 32, kernel_size=(1, 1), stride=(1, 1))\n",
      "  (block3): ResidualBlock(\n",
      "    (conv1): Conv2d(32, 32, kernel_size=(3, 3), stride=(1, 1), padding=(1, 1))\n",
      "    (conv2): Conv2d(32, 32, kernel_size=(3, 3), stride=(1, 1), padding=(1, 1))\n",
      "    (bn1): BatchNorm2d(32, eps=1e-05, momentum=0.1, affine=True, track_running_stats=True)\n",
      "    (bn2): BatchNorm2d(32, eps=1e-05, momentum=0.1, affine=True, track_running_stats=True)\n",
      "    (relu): LeakyReLU(negative_slope=0.1)\n",
      "    (maxpool): MaxPool2d(kernel_size=2, stride=2, padding=0, dilation=1, ceil_mode=False)\n",
      "  )\n",
      "  (block4): ResidualBlock(\n",
      "    (conv1): Conv2d(32, 32, kernel_size=(3, 3), stride=(1, 1), padding=(1, 1))\n",
      "    (conv2): Conv2d(32, 32, kernel_size=(3, 3), stride=(1, 1), padding=(1, 1))\n",
      "    (bn1): BatchNorm2d(32, eps=1e-05, momentum=0.1, affine=True, track_running_stats=True)\n",
      "    (bn2): BatchNorm2d(32, eps=1e-05, momentum=0.1, affine=True, track_running_stats=True)\n",
      "    (relu): LeakyReLU(negative_slope=0.1)\n",
      "    (maxpool): MaxPool2d(kernel_size=2, stride=2, padding=0, dilation=1, ceil_mode=False)\n",
      "  )\n",
      "  (bottleneck2): Conv2d(32, 64, kernel_size=(1, 1), stride=(1, 1))\n",
      "  (block5): ResidualBlock(\n",
      "    (conv1): Conv2d(64, 64, kernel_size=(3, 3), stride=(1, 1), padding=(1, 1))\n",
      "    (conv2): Conv2d(64, 64, kernel_size=(3, 3), stride=(1, 1), padding=(1, 1))\n",
      "    (bn1): BatchNorm2d(64, eps=1e-05, momentum=0.1, affine=True, track_running_stats=True)\n",
      "    (bn2): BatchNorm2d(64, eps=1e-05, momentum=0.1, affine=True, track_running_stats=True)\n",
      "    (relu): LeakyReLU(negative_slope=0.1)\n",
      "    (maxpool): MaxPool2d(kernel_size=2, stride=2, padding=0, dilation=1, ceil_mode=False)\n",
      "  )\n",
      "  (block6): ResidualBlock(\n",
      "    (conv1): Conv2d(64, 64, kernel_size=(3, 3), stride=(1, 1), padding=(1, 1))\n",
      "    (conv2): Conv2d(64, 64, kernel_size=(3, 3), stride=(1, 1), padding=(1, 1))\n",
      "    (bn1): BatchNorm2d(64, eps=1e-05, momentum=0.1, affine=True, track_running_stats=True)\n",
      "    (bn2): BatchNorm2d(64, eps=1e-05, momentum=0.1, affine=True, track_running_stats=True)\n",
      "    (relu): LeakyReLU(negative_slope=0.1)\n",
      "    (maxpool): MaxPool2d(kernel_size=2, stride=2, padding=0, dilation=1, ceil_mode=False)\n",
      "  )\n",
      "  (fc1): Linear(in_features=1024, out_features=200, bias=True)\n",
      "  (fc2): Linear(in_features=200, out_features=100, bias=True)\n",
      ")\n"
     ]
    }
   ],
   "source": [
    "import models.CifarModel as cm\n",
    "    \n",
    "model = cm.CifarModel('cifar_100',100)\n",
    "model.to(device)\n",
    "print(model)"
   ]
  },
  {
   "cell_type": "code",
   "execution_count": 6,
   "metadata": {},
   "outputs": [
    {
     "data": {
      "text/plain": [
       "tensor([[0.0412, 0.2296, 0.1786, 0.0000, 0.0848, 0.2416, 0.1011, 0.0000, 0.0009,\n",
       "         0.1613, 0.4418, 0.0000, 0.5732, 0.0000, 0.2078, 0.1499, 0.0000, 0.0000,\n",
       "         0.0000, 0.0000, 0.0000, 0.0000, 0.0064, 0.0359, 0.0000, 0.0000, 0.0447,\n",
       "         0.0000, 0.1391, 0.0000, 0.0000, 0.0507, 0.1680, 0.4823, 0.0000, 0.1110,\n",
       "         0.0000, 0.5034, 0.0440, 0.3840, 0.3417, 0.0000, 0.0000, 0.0819, 0.0000,\n",
       "         0.0000, 0.0000, 0.0000, 0.0000, 0.3950, 0.0000, 0.1385, 0.2042, 0.0000,\n",
       "         0.0000, 0.3206, 0.2842, 0.0000, 0.0000, 0.0000, 0.0000, 0.0000, 0.0000,\n",
       "         0.0000, 0.0624, 0.0000, 0.0000, 0.2048, 0.2712, 0.0000, 0.0000, 0.4904,\n",
       "         0.0000, 0.0000, 0.0000, 0.0000, 0.4002, 0.0000, 0.0519, 0.2639, 0.1023,\n",
       "         0.4851, 0.0000, 0.0395, 0.4028, 0.0000, 0.0269, 0.4725, 0.0000, 0.0000,\n",
       "         0.0689, 0.0000, 0.0000, 0.5618, 0.2244, 0.0237, 0.3900, 0.0000, 0.6041,\n",
       "         0.0000]], device='cuda:0', grad_fn=<ReluBackward>)"
      ]
     },
     "execution_count": 6,
     "metadata": {},
     "output_type": "execute_result"
    }
   ],
   "source": [
    "model(torch.randn(1,3,32,32).to(device))"
   ]
  },
  {
   "cell_type": "code",
   "execution_count": 9,
   "metadata": {},
   "outputs": [
    {
     "name": "stdout",
     "output_type": "stream",
     "text": [
      "50000\n",
      "10000\n",
      "10000\n"
     ]
    },
    {
     "data": {
      "image/png": "[encoded data removed]",
      "text/plain": [
       "<Figure size 432x288 with 1 Axes>"
      ]
     },
     "metadata": {
      "needs_background": "light"
     },
     "output_type": "display_data"
    },
    {
     "name": "stdout",
     "output_type": "stream",
     "text": [
      "b'woman'\n"
     ]
    },
    {
     "name": "stderr",
     "output_type": "stream",
     "text": [
      "Exception ignored in: <bound method _DataLoaderIter.__del__ of <torch.utils.data.dataloader._DataLoaderIter object at 0x7f692472ecc0>>\n",
      "Traceback (most recent call last):\n",
      "  File \"/home/adam/.local/lib/python3.5/site-packages/torch/utils/data/dataloader.py\", line 399, in __del__\n",
      "    self._shutdown_workers()\n",
      "  File \"/home/adam/.local/lib/python3.5/site-packages/torch/utils/data/dataloader.py\", line 378, in _shutdown_workers\n",
      "    self.worker_result_queue.get()\n",
      "  File \"/usr/lib/python3.5/multiprocessing/queues.py\", line 345, in get\n",
      "    return ForkingPickler.loads(res)\n",
      "  File \"/home/adam/.local/lib/python3.5/site-packages/torch/multiprocessing/reductions.py\", line 151, in rebuild_storage_fd\n",
      "    fd = df.detach()\n",
      "  File \"/usr/lib/python3.5/multiprocessing/resource_sharer.py\", line 57, in detach\n",
      "    with _resource_sharer.get_connection(self._id) as conn:\n",
      "  File \"/usr/lib/python3.5/multiprocessing/resource_sharer.py\", line 87, in get_connection\n",
      "    c = Client(address, authkey=process.current_process().authkey)\n",
      "  File \"/usr/lib/python3.5/multiprocessing/connection.py\", line 493, in Client\n",
      "    answer_challenge(c, authkey)\n",
      "  File \"/usr/lib/python3.5/multiprocessing/connection.py\", line 737, in answer_challenge\n",
      "    response = connection.recv_bytes(256)        # reject large message\n",
      "  File \"/usr/lib/python3.5/multiprocessing/connection.py\", line 216, in recv_bytes\n",
      "    buf = self._recv_bytes(maxlength)\n",
      "  File \"/usr/lib/python3.5/multiprocessing/connection.py\", line 407, in _recv_bytes\n",
      "    buf = self._recv(4)\n",
      "  File \"/usr/lib/python3.5/multiprocessing/connection.py\", line 379, in _recv\n",
      "    chunk = read(handle, remaining)\n",
      "ConnectionResetError: [Errno 104] Connection reset by peer\n"
     ]
    }
   ],
   "source": [
    "print(training_set.__len__())\n",
    "print(validation_set.__len__())\n",
    "print(test_set.__len__())\n",
    "\n",
    "for local_X, local_y in training_generator:\n",
    "    training_set.plotImage(local_X[0,:,:,:], local_y[0])\n",
    "    break\n",
    "#     pass"
   ]
  },
  {
   "cell_type": "code",
   "execution_count": null,
   "metadata": {},
   "outputs": [
    {
     "name": "stdout",
     "output_type": "stream",
     "text": [
      "Epoch 1/100\n",
      " Training ... \n",
      " progres: 0.32, loss: 0.143318, acc: 0.02\n",
      " progres: 0.64, loss: 0.142379, acc: 0.02\n",
      " progres: 0.96, loss: 0.141548, acc: 0.03\n",
      " Validating ... \n",
      " loss: 0.148517, acc: 0.01\n",
      " Saving best model!\n",
      "Epoch 2/100\n",
      " Training ... \n",
      " progres: 0.32, loss: 0.138475, acc: 0.05\n",
      " progres: 0.64, loss: 0.137810, acc: 0.05\n",
      " progres: 0.96, loss: 0.137267, acc: 0.05\n",
      " Validating ... \n"
     ]
    },
    {
     "name": "stderr",
     "output_type": "stream",
     "text": [
      "No handles with labels found to put in legend.\n"
     ]
    },
    {
     "name": "stdout",
     "output_type": "stream",
     "text": [
      " loss: 0.141438, acc: 0.03\n",
      " Saving best model!\n"
     ]
    },
    {
     "data": {
      "image/png": "[encoded data removed]",
      "text/plain": [
       "<Figure size 432x288 with 2 Axes>"
      ]
     },
     "metadata": {
      "needs_background": "light"
     },
     "output_type": "display_data"
    },
    {
     "name": "stdout",
     "output_type": "stream",
     "text": [
      "Epoch 3/100\n",
      " Training ... \n",
      " progres: 0.32, loss: 0.134682, acc: 0.06\n",
      " progres: 0.64, loss: 0.134320, acc: 0.07\n",
      " progres: 0.96, loss: 0.133693, acc: 0.07\n",
      " Validating ... \n"
     ]
    }
   ],
   "source": [
    "import torch.optim as optim\n",
    "import matplotlib.pyplot as plt\n",
    "\n",
    "def trainModel(model, train_dataset_gen, val_dataset_gen, criterion, optimizer, num_of_epochs, device):\n",
    "    \n",
    "    train_acc = []\n",
    "    train_loss = []\n",
    "    val_acc = []\n",
    "    val_loss = []\n",
    "    epochs = []\n",
    "    \n",
    "    model = model.to(device)\n",
    "    best_val_loss = sys.float_info.max\n",
    "    \n",
    "    \n",
    "    for epoch in range(num_of_epochs):\n",
    "        print(\"Epoch {}/{}\".format(epoch+1, num_of_epochs))\n",
    "        \n",
    "        for phase in ['train', 'validate']:\n",
    "            \n",
    "            cumulated_loss = 0.0\n",
    "            cumulated_inputs_count = 0\n",
    "            cumulated_acc = 0.0\n",
    "            \n",
    "            if phase == 'train':\n",
    "                model.train()\n",
    "                print(\" Training ... \")\n",
    "                \n",
    "                for i, (inputs, labels) in enumerate(train_dataset_gen,0):\n",
    "                    inputs, labels = inputs.to(device), labels.to(device)\n",
    "                \n",
    "                    optimizer.zero_grad()\n",
    "                    \n",
    "                    with torch.set_grad_enabled(True):\n",
    "            \n",
    "                        outputs = model(inputs)\n",
    "                        _, preds = torch.max(outputs,1)\n",
    "                        loss = criterion(outputs, labels)\n",
    "                        \n",
    "                        \n",
    "                        loss.backward()\n",
    "                        optimizer.step()\n",
    "                        \n",
    "                        cumulated_loss += loss.item()\n",
    "                        cumulated_inputs_count += inputs.shape[0]\n",
    "                        cumulated_acc += sum((preds.cpu().numpy() == labels.cpu().numpy()) == True)\n",
    "                        \n",
    "                        if((i+1) % 500 == 0):\n",
    "                            print(' progres: {:.2f}, loss: {:.6f}, acc: {:.2f}'.format(cumulated_inputs_count/training_set.length(), cumulated_loss/cumulated_inputs_count, cumulated_acc/cumulated_inputs_count))\n",
    "                        \n",
    "                \n",
    "                train_acc.append(cumulated_acc/cumulated_inputs_count)\n",
    "                train_loss.append(cumulated_loss/cumulated_inputs_count)\n",
    "                        \n",
    "            else:\n",
    "                model.eval()\n",
    "                print(\" Validating ... \")\n",
    "                \n",
    "                for i, (inputs, labels) in enumerate(validation_generator,0):\n",
    "                    inputs, labels = inputs.to(device), labels.to(device)\n",
    "                \n",
    "                    with torch.set_grad_enabled(False):\n",
    "            \n",
    "                        outputs = model(inputs)\n",
    "                        _, preds = torch.max(outputs,1)\n",
    "                        loss = criterion(outputs, labels)\n",
    "                        \n",
    "                        cumulated_loss += loss.item()\n",
    "                        cumulated_inputs_count += inputs.shape[0]\n",
    "                        cumulated_acc += sum((preds.cpu().numpy() == labels.cpu().numpy()) == True)\n",
    "                        \n",
    "                val_acc.append(cumulated_acc/cumulated_inputs_count)\n",
    "                val_loss.append(cumulated_loss/cumulated_inputs_count)\n",
    "                epochs.append(epoch)\n",
    "                        \n",
    "                print(' loss: {:.6f}, acc: {:.2f}'.format(val_loss[-1], val_acc[-1]))\n",
    "                model.save_model({\n",
    "                    'epoch': epoch + 1,\n",
    "                    'state_dict': model.state_dict(),\n",
    "                }, False)\n",
    "                \n",
    "                if(best_val_loss > cumulated_loss/cumulated_inputs_count):\n",
    "                    best_val_loss = cumulated_loss/cumulated_inputs_count\n",
    "                    print(' Saving best model!')\n",
    "                    model.save_model({\n",
    "                        'epoch': epoch + 1,\n",
    "                        'state_dict': model.state_dict(),\n",
    "                    }, True)\n",
    "                    \n",
    "        if(epoch % 5 == 1):\n",
    "            \n",
    "            fig, axs = plt.subplots(2, 1)\n",
    "            axs[0].plot(epochs, train_acc, label='trn')\n",
    "            axs[0].plot(epochs, val_acc, label='val')\n",
    "            axs[0].grid(True)\n",
    "            axs[0].set_xlabel('epochs')\n",
    "            axs[0].set_ylabel('acc')\n",
    "            plt.legend(bbox_to_anchor=(1.05, 1), loc=2, borderaxespad=0.)\n",
    "            \n",
    "            axs[1].plot(epochs, train_loss, label='trn')\n",
    "            axs[1].plot(epochs, val_loss, label='val')\n",
    "            axs[1].grid(True)\n",
    "            axs[1].set_xlabel('epochs')\n",
    "            axs[1].set_ylabel('loss')\n",
    "            plt.legend(bbox_to_anchor=(1.05, 1), loc=2, borderaxespad=0.)\n",
    "            \n",
    "            plt.show()\n",
    "\n",
    "criterion = nn.CrossEntropyLoss()\n",
    "optimizer = optim.SGD(model.parameters(), lr=0.001, momentum=0.9, weight_decay=0.00001)\n",
    "trainModel(model, training_generator, validation_generator, criterion, optimizer, 100,device)"
   ]
  },
  {
   "cell_type": "code",
   "execution_count": 10,
   "metadata": {},
   "outputs": [
    {
     "name": "stdout",
     "output_type": "stream",
     "text": [
      " Testing ... \n",
      " loss: 0.020023, acc: 0.78\n"
     ]
    }
   ],
   "source": [
    "model.eval()\n",
    "print(\" Testing ... \")\n",
    "cumulated_loss = 0.0\n",
    "cumulated_inputs_count = 0\n",
    "cumulated_acc = 0.0\n",
    "\n",
    "for i, (inputs, labels) in enumerate(test_generator,0):\n",
    "    inputs, labels = inputs.to(device), labels.to(device)\n",
    "\n",
    "    with torch.set_grad_enabled(False):\n",
    "\n",
    "        outputs = model(inputs)\n",
    "        _, preds = torch.max(outputs,1)\n",
    "        loss = criterion(outputs, labels)\n",
    "\n",
    "        cumulated_loss += loss.item()\n",
    "        cumulated_inputs_count += inputs.shape[0]\n",
    "        cumulated_acc += sum((preds.cpu().numpy() == labels.cpu().numpy()) == True)\n",
    "\n",
    "print(' loss: {:.6f}, acc: {:.2f}'.format(cumulated_loss/cumulated_inputs_count, cumulated_acc/cumulated_inputs_count))\n",
    "                  "
   ]
  },
  {
   "cell_type": "code",
   "execution_count": null,
   "metadata": {},
   "outputs": [],
   "source": []
  },
  {
   "cell_type": "code",
   "execution_count": null,
   "metadata": {},
   "outputs": [],
   "source": []
  },
  {
   "cell_type": "code",
   "execution_count": null,
   "metadata": {},
   "outputs": [],
   "source": []
  },
  {
   "cell_type": "code",
   "execution_count": null,
   "metadata": {},
   "outputs": [],
   "source": []
  },
  {
   "cell_type": "code",
   "execution_count": null,
   "metadata": {},
   "outputs": [],
   "source": []
  },
  {
   "cell_type": "code",
   "execution_count": null,
   "metadata": {},
   "outputs": [],
   "source": []
  }
 ],
 "metadata": {
  "kernelspec": {
   "display_name": "Python 3",
   "language": "python",
   "name": "python3"
  },
  "language_info": {
   "codemirror_mode": {
    "name": "ipython",
    "version": 3
   },
   "file_extension": ".py",
   "mimetype": "text/x-python",
   "name": "python",
   "nbconvert_exporter": "python",
   "pygments_lexer": "ipython3",
   "version": "3.5.2"
  }
 },
 "nbformat": 4,
 "nbformat_minor": 2
}
