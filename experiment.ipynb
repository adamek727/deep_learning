{
 "cells": [
  {
   "cell_type": "code",
   "execution_count": 1,
   "metadata": {},
   "outputs": [
    {
     "name": "stdout",
     "output_type": "stream",
     "text": [
      "3.5.2 (default, Nov 23 2017, 16:37:01) \n",
      "[GCC 5.4.0 20160609]\n"
     ]
    }
   ],
   "source": [
    "import sys\n",
    "print(sys.version)\n",
    "\n",
    "import warnings\n",
    "warnings.filterwarnings('ignore')"
   ]
  },
  {
   "cell_type": "code",
   "execution_count": 2,
   "metadata": {},
   "outputs": [],
   "source": [
    "import torch\n",
    "from torch.utils import data\n",
    "import torch.nn as nn"
   ]
  },
  {
   "cell_type": "code",
   "execution_count": 3,
   "metadata": {},
   "outputs": [],
   "source": [
    "cifar_10_folder = './datasets/cifar-10/'\n",
    "cifar_100_folder = './datasets/cifar-100/'\n",
    "flower_17_folder = './datasets/flowers-17/'\n",
    "flower_102_folder = './datasets/flowers-102/'\n",
    "mnist_folder = './datasets/mnist/'"
   ]
  },
  {
   "cell_type": "code",
   "execution_count": 4,
   "metadata": {},
   "outputs": [],
   "source": [
    "import dataloaders.Cifar10Dataset as cd10\n",
    "import dataloaders.Cifar100Dataset as cd100\n",
    "import dataloaders.Flowers17Dataset as fl17\n",
    "import dataloaders.Flowers102Dataset as fl102\n",
    "import dataloaders.MnistDataset as mn\n",
    "\n",
    "# CUDA for PyTorch\n",
    "use_cuda = torch.cuda.is_available()\n",
    "device = torch.device(\"cuda:0\" if use_cuda else \"cpu\")\n",
    "#cudnn.benchmark = True\n",
    "\n",
    "# Parameters\n",
    "params = {'batch_size': 32,\n",
    "          'shuffle': True,\n",
    "          'num_workers': 2}\n",
    "max_epochs = 100\n",
    "\n",
    "\n",
    "# Generators\n",
    "training_set = mn.MnistDataset(mnist_folder, dataset_type='train')\n",
    "#training_set.setRotation(True)\n",
    "#training_set.setCrop(True)\n",
    "#training_set.setFlip(True)\n",
    "#training_set.setBlur(True)\n",
    "#training_set.setNoise(True)\n",
    "#training_set.setNormalization(True, 0.5, 0.2)\n",
    "training_generator = data.DataLoader(training_set, **params)\n",
    "\n",
    "validation_set = mn.MnistDataset(mnist_folder, dataset_type='val')\n",
    "#validation_set.setNormalization(True, 0.5, 0.2)\n",
    "validation_generator = data.DataLoader(validation_set, **params)\n",
    "\n",
    "test_set = mn.MnistDataset(mnist_folder, dataset_type='test')\n",
    "#test_set.setNormalization(True, 0.5, 0.2)\n",
    "test_generator = data.DataLoader(test_set, **params)"
   ]
  },
  {
   "cell_type": "code",
   "execution_count": 5,
   "metadata": {
    "scrolled": true
   },
   "outputs": [
    {
     "name": "stdout",
     "output_type": "stream",
     "text": [
      "MnistConvModel(\n",
      "  (fc1): Linear(in_features=1152, out_features=10, bias=True)\n",
      "  (fc2): None\n",
      "  (fc3): None\n",
      "  (conv1): Conv2d(1, 16, kernel_size=(3, 3), stride=(1, 1), padding=(1, 1))\n",
      "  (conv2): Conv2d(16, 32, kernel_size=(3, 3), stride=(1, 1), padding=(1, 1))\n",
      "  (conv3): Conv2d(32, 64, kernel_size=(3, 3), stride=(1, 1), padding=(1, 1))\n",
      "  (conv4): Conv2d(64, 128, kernel_size=(3, 3), stride=(1, 1), padding=(1, 1))\n",
      "  (maxpool): MaxPool2d(kernel_size=2, stride=2, padding=0, dilation=1, ceil_mode=False)\n",
      ")\n"
     ]
    }
   ],
   "source": [
    "import models.CifarModel as cm\n",
    "import models.FlowerModel as fm\n",
    "import models.MnistFcModel as mm\n",
    "import models.MnistConvModel as mmc\n",
    "    \n",
    "#model = cm.CifarModel('cifar_100',100)\n",
    "#model = fm.FlowerModel('flower_102',102)\n",
    "#model = mm.MnistFcModel('mnist_fc',10)\n",
    "model = mmc.MnistConvModel('mnist_conv',10)\n",
    "model.float()\n",
    "model.to(device)\n",
    "\n",
    "print(model)"
   ]
  },
  {
   "cell_type": "code",
   "execution_count": 6,
   "metadata": {},
   "outputs": [
    {
     "data": {
      "text/plain": [
       "torch.Size([1, 10])"
      ]
     },
     "execution_count": 6,
     "metadata": {},
     "output_type": "execute_result"
    }
   ],
   "source": [
    "#model(torch.randn(1,3,100,100).to(device)).shape\n",
    "model(torch.randn(1,1,28,28).to(device)).shape\n",
    "#model(torch.randn(1,3,32,32).to(device)).shape"
   ]
  },
  {
   "cell_type": "code",
   "execution_count": 7,
   "metadata": {},
   "outputs": [
    {
     "name": "stdout",
     "output_type": "stream",
     "text": [
      "60000 train\n",
      "10000 val\n",
      "10000 test\n"
     ]
    }
   ],
   "source": [
    "print(training_set.__len__(), training_set.dataset_type)\n",
    "print(validation_set.__len__(), validation_set.dataset_type)\n",
    "print(test_set.__len__(), test_set.dataset_type)\n",
    "\n",
    "#for local_X, local_y in training_generator:\n",
    "#\n",
    "#     training_set.plotImage(local_X[0,:,:,:], local_y[0])\n",
    "#     break\n",
    "#     #    pass"
   ]
  },
  {
   "cell_type": "code",
   "execution_count": 8,
   "metadata": {},
   "outputs": [],
   "source": [
    "import torch.optim as optim\n",
    "\n",
    "criterion = nn.CrossEntropyLoss()\n",
    "optimizer = optim.SGD(model.parameters(), lr=0.001, momentum=0.9, weight_decay=0.00001)"
   ]
  },
  {
   "cell_type": "code",
   "execution_count": 9,
   "metadata": {},
   "outputs": [
    {
     "name": "stdout",
     "output_type": "stream",
     "text": [
      "Epoch 1/10\n",
      " Training ... \n",
      " progres: 0.27, loss: 0.062308, acc: 0.10\n",
      " progres: 0.53, loss: 0.060000, acc: 0.11\n",
      " progres: 0.80, loss: 0.058519, acc: 0.14\n",
      " Validating ... \n",
      " loss: 0.049377, acc: 0.88\n",
      " Saving best model!\n",
      "Epoch 2/10\n",
      " Training ... \n",
      " progres: 0.27, loss: 0.049067, acc: 0.90\n",
      " progres: 0.53, loss: 0.047967, acc: 0.93\n",
      " progres: 0.80, loss: 0.047509, acc: 0.95\n",
      " Validating ... \n"
     ]
    },
    {
     "name": "stderr",
     "output_type": "stream",
     "text": [
      "No handles with labels found to put in legend.\n"
     ]
    },
    {
     "name": "stdout",
     "output_type": "stream",
     "text": [
      " loss: 0.046571, acc: 0.98\n",
      " Saving best model!\n"
     ]
    },
    {
     "data": {
      "image/png": "[encoded data removed]",
      "text/plain": [
       "<Figure size 432x288 with 2 Axes>"
      ]
     },
     "metadata": {
      "needs_background": "light"
     },
     "output_type": "display_data"
    },
    {
     "name": "stdout",
     "output_type": "stream",
     "text": [
      "Epoch 3/10\n",
      " Training ... \n",
      " progres: 0.27, loss: 0.046513, acc: 0.98\n",
      " progres: 0.53, loss: 0.046493, acc: 0.98\n",
      " progres: 0.80, loss: 0.046467, acc: 0.98\n",
      " Validating ... \n",
      " loss: 0.046531, acc: 0.98\n",
      " Saving best model!\n",
      "Epoch 4/10\n",
      " Training ... \n",
      " progres: 0.27, loss: 0.046337, acc: 0.98\n",
      " progres: 0.53, loss: 0.046335, acc: 0.98\n",
      " progres: 0.80, loss: 0.046321, acc: 0.98\n",
      " Validating ... \n",
      " loss: 0.046458, acc: 0.98\n",
      " Saving best model!\n",
      "Epoch 5/10\n",
      " Training ... \n",
      " progres: 0.27, loss: 0.046248, acc: 0.98\n",
      " progres: 0.53, loss: 0.046242, acc: 0.98\n",
      " progres: 0.80, loss: 0.046259, acc: 0.98\n",
      " Validating ... \n",
      " loss: 0.046311, acc: 0.98\n",
      " Saving best model!\n",
      "Epoch 6/10\n",
      " Training ... \n",
      " progres: 0.27, loss: 0.046168, acc: 0.99\n",
      " progres: 0.53, loss: 0.046180, acc: 0.98\n",
      " progres: 0.80, loss: 0.046178, acc: 0.98\n",
      " Validating ... \n",
      " loss: 0.046297, acc: 0.98\n",
      " Saving best model!\n",
      "Epoch 7/10\n",
      " Training ... \n",
      " progres: 0.27, loss: 0.046118, acc: 0.99\n",
      " progres: 0.53, loss: 0.046160, acc: 0.98\n",
      " progres: 0.80, loss: 0.046155, acc: 0.99\n",
      " Validating ... \n"
     ]
    },
    {
     "name": "stderr",
     "output_type": "stream",
     "text": [
      "No handles with labels found to put in legend.\n"
     ]
    },
    {
     "name": "stdout",
     "output_type": "stream",
     "text": [
      " loss: 0.046345, acc: 0.98\n"
     ]
    },
    {
     "data": {
      "image/png": "[encoded data removed]",
      "text/plain": [
       "<Figure size 432x288 with 2 Axes>"
      ]
     },
     "metadata": {
      "needs_background": "light"
     },
     "output_type": "display_data"
    },
    {
     "name": "stdout",
     "output_type": "stream",
     "text": [
      "Epoch 8/10\n",
      " Training ... \n",
      " progres: 0.27, loss: 0.046113, acc: 0.99\n",
      " progres: 0.53, loss: 0.046128, acc: 0.99\n",
      " progres: 0.80, loss: 0.046131, acc: 0.99\n",
      " Validating ... \n",
      " loss: 0.046230, acc: 0.98\n",
      " Saving best model!\n",
      "Epoch 9/10\n",
      " Training ... \n",
      " progres: 0.27, loss: 0.046059, acc: 0.99\n",
      " progres: 0.53, loss: 0.046075, acc: 0.99\n",
      " progres: 0.80, loss: 0.046070, acc: 0.99\n",
      " Validating ... \n",
      " loss: 0.046335, acc: 0.98\n",
      "Epoch 10/10\n",
      " Training ... \n",
      " progres: 0.27, loss: 0.046068, acc: 0.99\n",
      " progres: 0.53, loss: 0.046048, acc: 0.99\n",
      " progres: 0.80, loss: 0.046037, acc: 0.99\n",
      " Validating ... \n",
      " loss: 0.046197, acc: 0.99\n",
      " Saving best model!\n"
     ]
    }
   ],
   "source": [
    "import matplotlib.pyplot as plt\n",
    "\n",
    "def trainModel(model, train_dataset_gen, val_dataset_gen, criterion, optimizer, num_of_epochs, device):\n",
    "    \n",
    "    train_acc = []\n",
    "    train_loss = []\n",
    "    val_acc = []\n",
    "    val_loss = []\n",
    "    epochs = []\n",
    "    \n",
    "    model = model.to(device)\n",
    "    best_val_loss = sys.float_info.max\n",
    "    \n",
    "    \n",
    "    for epoch in range(num_of_epochs):\n",
    "        print(\"Epoch {}/{}\".format(epoch+1, num_of_epochs))\n",
    "        \n",
    "        for phase in ['train', 'validate']:\n",
    "            \n",
    "            cumulated_loss = 0.0\n",
    "            cumulated_inputs_count = 0\n",
    "            cumulated_acc = 0.0\n",
    "            \n",
    "            if phase == 'train':\n",
    "                model.train()\n",
    "                print(\" Training ... \")\n",
    "                \n",
    "                for i, (inputs, labels) in enumerate(train_dataset_gen,0):\n",
    "                    inputs, labels = inputs.to(device), labels.to(device)\n",
    "                \n",
    "                    inputs = inputs.view(-1,1,28,28)\n",
    "                    optimizer.zero_grad()\n",
    "                    \n",
    "                    with torch.set_grad_enabled(True):\n",
    "            \n",
    "                        outputs = model(inputs)\n",
    "                        _, preds = torch.max(outputs,1)\n",
    "                        loss = criterion(outputs, labels)\n",
    "                        \n",
    "                        \n",
    "                        loss.backward()\n",
    "                        optimizer.step()\n",
    "                        \n",
    "                        cumulated_loss += loss.item()\n",
    "                        cumulated_inputs_count += inputs.shape[0]\n",
    "                        cumulated_acc += sum((preds.cpu().numpy() == labels.cpu().numpy()) == True)\n",
    "                        \n",
    "                        if((i+1) % 500 == 0):\n",
    "                            print(' progres: {:.2f}, loss: {:.6f}, acc: {:.2f}'.format(cumulated_inputs_count/training_set.length(), cumulated_loss/cumulated_inputs_count, cumulated_acc/cumulated_inputs_count))\n",
    "                        \n",
    "                \n",
    "                train_acc.append(cumulated_acc/cumulated_inputs_count)\n",
    "                train_loss.append(cumulated_loss/cumulated_inputs_count)\n",
    "                        \n",
    "            else:\n",
    "                model.eval()\n",
    "                print(\" Validating ... \")\n",
    "                \n",
    "                for i, (inputs, labels) in enumerate(validation_generator,0):\n",
    "                    inputs, labels = inputs.to(device), labels.to(device)\n",
    "                \n",
    "                    inputs = inputs.view(-1,1,28,28)\n",
    "                    with torch.set_grad_enabled(False):\n",
    "            \n",
    "                        outputs = model(inputs)\n",
    "                        _, preds = torch.max(outputs,1)\n",
    "                        loss = criterion(outputs, labels)\n",
    "                        \n",
    "                        cumulated_loss += loss.item()\n",
    "                        cumulated_inputs_count += inputs.shape[0]\n",
    "                        cumulated_acc += sum((preds.cpu().numpy() == labels.cpu().numpy()) == True)\n",
    "                        \n",
    "                val_acc.append(cumulated_acc/cumulated_inputs_count)\n",
    "                val_loss.append(cumulated_loss/cumulated_inputs_count)\n",
    "                epochs.append(epoch)\n",
    "                        \n",
    "                print(' loss: {:.6f}, acc: {:.2f}'.format(val_loss[-1], val_acc[-1]))\n",
    "                model.save_model({\n",
    "                    'epoch': epoch + 1,\n",
    "                    'state_dict': model.state_dict(),\n",
    "                }, False)\n",
    "                \n",
    "                if(best_val_loss > cumulated_loss/cumulated_inputs_count):\n",
    "                    best_val_loss = cumulated_loss/cumulated_inputs_count\n",
    "                    print(' Saving best model!')\n",
    "                    model.save_model({\n",
    "                        'epoch': epoch + 1,\n",
    "                        'state_dict': model.state_dict(),\n",
    "                    }, True)\n",
    "                    \n",
    "        if(epoch % 5 == 1):\n",
    "            \n",
    "            fig, axs = plt.subplots(2, 1)\n",
    "            axs[0].plot(epochs, train_acc, label='trn')\n",
    "            axs[0].plot(epochs, val_acc, label='val')\n",
    "            axs[0].grid(True)\n",
    "            axs[0].set_xlabel('epochs')\n",
    "            axs[0].set_ylabel('acc')\n",
    "            plt.legend(bbox_to_anchor=(1.05, 1), loc=2, borderaxespad=0.)\n",
    "            \n",
    "            axs[1].plot(epochs, train_loss, label='trn')\n",
    "            axs[1].plot(epochs, val_loss, label='val')\n",
    "            axs[1].grid(True)\n",
    "            axs[1].set_xlabel('epochs')\n",
    "            axs[1].set_ylabel('loss')\n",
    "            plt.legend(bbox_to_anchor=(1.05, 1), loc=2, borderaxespad=0.)\n",
    "            \n",
    "            plt.show()\n",
    "\n",
    "trainModel(model, training_generator, validation_generator, criterion, optimizer, 10,device)"
   ]
  },
  {
   "cell_type": "code",
   "execution_count": 15,
   "metadata": {},
   "outputs": [
    {
     "name": "stdout",
     "output_type": "stream",
     "text": [
      " Testing ... \n",
      " loss: 0.046197, acc: 0.99\n"
     ]
    }
   ],
   "source": [
    "import numpy as np\n",
    "\n",
    "#model = fm.FlowerModel('flower_102',102)\n",
    "# model = mm.MnistFcModel('mnist_fc',10)\n",
    "model = mmc.MnistConvModel('mnist_conv',10)\n",
    "model.float()\n",
    "model.load_model(load_best=True)\n",
    "model.to(device)\n",
    "\n",
    "print(\" Testing ... \")\n",
    "cumulated_loss = 0.0\n",
    "cumulated_inputs_count = 0\n",
    "cumulated_acc = 0.0\n",
    "conf_matrix = np.zeros((10,10))\n",
    "\n",
    "for i, (inputs, labels) in enumerate(test_generator,0):\n",
    "    inputs, labels = inputs.to(device), labels.to(device)\n",
    "    inputs = inputs.view(-1,1,28,28)\n",
    "    \n",
    "    with torch.set_grad_enabled(False):\n",
    "\n",
    "        outputs = model(inputs)\n",
    "        _, preds = torch.max(outputs,1)\n",
    "        loss = criterion(outputs, labels)\n",
    "        for label, pred in zip(labels, preds):\n",
    "            conf_matrix[pred.item(), label.item()] += 1\n",
    "\n",
    "        cumulated_loss += loss.item()\n",
    "        cumulated_inputs_count += inputs.shape[0]\n",
    "        cumulated_acc += sum((preds.cpu().numpy() == labels.cpu().numpy()) == True)\n",
    "\n",
    "        \n",
    "print(' loss: {:.6f}, acc: {:.2f}'.format(cumulated_loss/cumulated_inputs_count, cumulated_acc/cumulated_inputs_count))\n",
    "                  "
   ]
  },
  {
   "cell_type": "code",
   "execution_count": 16,
   "metadata": {
    "scrolled": true
   },
   "outputs": [
    {
     "data": {
      "image/png": "[encoded data removed]",
      "text/plain": [
       "<Figure size 720x720 with 2 Axes>"
      ]
     },
     "metadata": {},
     "output_type": "display_data"
    }
   ],
   "source": [
    "import seaborn as sn\n",
    "import pandas as pd\n",
    "import matplotlib.pyplot as plt\n",
    "import numpy as np\n",
    "\n",
    "def plotConfusionMatrix(matrix):\n",
    "    \n",
    "    fig, ax = plt.subplots()\n",
    "    fig.set_size_inches(10,10)\n",
    "    df_cm = pd.DataFrame(matrix, range(matrix.shape[0]),\n",
    "                  range(matrix.shape[1]))\n",
    "    sn.set(font_scale=1.4)#for label size\n",
    "    sn.heatmap(df_cm, annot=True,annot_kws={\"size\": 16})# font size\n",
    "    \n",
    "plotConfusionMatrix(conf_matrix[:,:])"
   ]
  },
  {
   "cell_type": "code",
   "execution_count": 9,
   "metadata": {},
   "outputs": [],
   "source": []
  },
  {
   "cell_type": "code",
   "execution_count": 5,
   "metadata": {},
   "outputs": [
    {
     "name": "stdout",
     "output_type": "stream",
     "text": [
      "(60000, 784) (60000,)\n",
      "(10000, 784) (10000,)\n"
     ]
    }
   ],
   "source": [
    "print(train_x.shape, train_y.shape)\n",
    "print(test_x.shape, test_y.shape)"
   ]
  },
  {
   "cell_type": "code",
   "execution_count": 17,
   "metadata": {
    "scrolled": false
   },
   "outputs": [
    {
     "data": {
      "image/png": "[encoded data removed]",
      "text/plain": [
       "<Figure size 432x288 with 1 Axes>"
      ]
     },
     "metadata": {
      "needs_background": "light"
     },
     "output_type": "display_data"
    },
    {
     "data": {
      "image/png": "[encoded data removed]",
      "text/plain": [
       "<Figure size 432x288 with 1 Axes>"
      ]
     },
     "metadata": {
      "needs_background": "light"
     },
     "output_type": "display_data"
    },
    {
     "name": "stdout",
     "output_type": "stream",
     "text": [
      "5\n"
     ]
    }
   ],
   "source": [
    "import matplotlib.pyplot as plt\n",
    "index = 0\n",
    "\n",
    "plt.imshow(train_x[index,:].reshape(28,28))\n",
    "plt.show()\n",
    "\n",
    "plt.imshow(train_x[index,:].reshape(1, 28*28))\n",
    "plt.show()\n",
    "\n",
    "print(train_y[index])\n",
    "\n"
   ]
  },
  {
   "cell_type": "code",
   "execution_count": null,
   "metadata": {},
   "outputs": [],
   "source": []
  }
 ],
 "metadata": {
  "kernelspec": {
   "display_name": "Python 3",
   "language": "python",
   "name": "python3"
  },
  "language_info": {
   "codemirror_mode": {
    "name": "ipython",
    "version": 3
   },
   "file_extension": ".py",
   "mimetype": "text/x-python",
   "name": "python",
   "nbconvert_exporter": "python",
   "pygments_lexer": "ipython3",
   "version": "3.5.2"
  }
 },
 "nbformat": 4,
 "nbformat_minor": 2
}
